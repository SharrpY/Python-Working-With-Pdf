{
 "cells": [
  {
   "cell_type": "code",
   "execution_count": 1,
   "id": "99568fcf",
   "metadata": {},
   "outputs": [],
   "source": [
    "import PyPDF4"
   ]
  },
  {
   "cell_type": "code",
   "execution_count": 3,
   "id": "3297fcde",
   "metadata": {},
   "outputs": [
    {
     "name": "stdout",
     "output_type": "stream",
     "text": [
      "C:\\Users\\ASUS\\OneDrive\\Masaüstü\\python\\pdf-spreadsheet\n"
     ]
    }
   ],
   "source": [
    "cd pdf-spreadsheet"
   ]
  },
  {
   "cell_type": "code",
   "execution_count": 4,
   "id": "662d222e",
   "metadata": {},
   "outputs": [],
   "source": [
    "f = open('Working_Business_Proposal.pdf','rb') #run-binary"
   ]
  },
  {
   "cell_type": "code",
   "execution_count": 5,
   "id": "36191752",
   "metadata": {},
   "outputs": [],
   "source": [
    "pdf_reader = PyPDF4.PdfFileReader(f)"
   ]
  },
  {
   "cell_type": "code",
   "execution_count": 6,
   "id": "d20e5fb5",
   "metadata": {},
   "outputs": [
    {
     "data": {
      "text/plain": [
       "5"
      ]
     },
     "execution_count": 6,
     "metadata": {},
     "output_type": "execute_result"
    }
   ],
   "source": [
    "len(pdf_reader.pages)"
   ]
  },
  {
   "cell_type": "code",
   "execution_count": 7,
   "id": "b1bcae38",
   "metadata": {},
   "outputs": [],
   "source": [
    "page_one = pdf_reader.pages[0]"
   ]
  },
  {
   "cell_type": "code",
   "execution_count": 9,
   "id": "464f35fb",
   "metadata": {},
   "outputs": [],
   "source": [
    "page_one_text = page_one.extractText()"
   ]
  },
  {
   "cell_type": "code",
   "execution_count": 10,
   "id": "e4a63ef5",
   "metadata": {},
   "outputs": [
    {
     "data": {
      "text/plain": [
       "'Business Proposal\\n \\nThe Revolution is Coming\\n \\nLeverage agile frameworks to provide a robust synopsis for high level \\noverviews. Iterative approaches to corporate strategy foster collaborative \\nthinking to further the overall value proposition. Organically grow the \\nholistic world view of disruptive innovation via workplace diversity and \\nempowerment. \\nBring to the table win-win survival strategies to ensure proactive \\ndomination. At the end of the day, going forward, a new normal that has \\nevolved from generation X is on the runway heading towards a streamlined \\ncloud solution. User generated content in real-time will have multiple \\ntouchpoints for offshoring. \\nCapitalize on low hanging fruit to identify a ballpark value added activity to \\nbeta test. Override the digital divide with additional clickthroughs from \\nDevOps. Nanotechnology immersion along the information highway will \\nclose the loop on focusing solely on the bottom line. \\nPodcasting operational change management inside of workßows to \\nestablish a framework. Taking seamless key performance indicators ofßine \\nto maximise the long tail. Keeping your eye on the ball while performing a \\ndeep dive on the start-up mentality to derive convergence on cross-\\nplatform integration. \\nCollaboratively administrate empowered markets via plug-and-play \\nnetworks. Dynamically procrastinate B2C users after installed base \\nbeneÞts. Dramatically visualize customer directed convergence without \\nrevolutionary ROI. \\nEfÞciently unleash cross-media information without cross-media value. \\nQuickly maximize timely deliverables for real-time schemas. Dramatically \\nmaintain clicks-and-mortar solutions without functional solutions. \\nBUSINESS PROPOSAL\\n!\\n1\\n'"
      ]
     },
     "execution_count": 10,
     "metadata": {},
     "output_type": "execute_result"
    }
   ],
   "source": [
    "page_one_text"
   ]
  },
  {
   "cell_type": "code",
   "execution_count": 11,
   "id": "c3ded41e",
   "metadata": {},
   "outputs": [],
   "source": [
    "f.close()"
   ]
  },
  {
   "cell_type": "code",
   "execution_count": 12,
   "id": "f78d90b6",
   "metadata": {},
   "outputs": [],
   "source": [
    "f = open('Working_Business_Proposal.pdf','rb')"
   ]
  },
  {
   "cell_type": "code",
   "execution_count": 15,
   "id": "fe00fb38",
   "metadata": {},
   "outputs": [],
   "source": [
    "pdf_reader = PyPDF4.PdfFileReader(f)"
   ]
  },
  {
   "cell_type": "code",
   "execution_count": 19,
   "id": "51355f95",
   "metadata": {},
   "outputs": [],
   "source": [
    "first_page = pdf_reader.getPage(0)"
   ]
  },
  {
   "cell_type": "code",
   "execution_count": 22,
   "id": "186c42ad",
   "metadata": {},
   "outputs": [],
   "source": [
    "pdf_writer = PyPDF4.PdfFileWriter()"
   ]
  },
  {
   "cell_type": "code",
   "execution_count": 24,
   "id": "49db7864",
   "metadata": {
    "scrolled": true
   },
   "outputs": [],
   "source": [
    "pdf_writer.addPage(first_page)"
   ]
  },
  {
   "cell_type": "code",
   "execution_count": 25,
   "id": "e90079a2",
   "metadata": {},
   "outputs": [],
   "source": [
    "pdf_output = open('Some_BrandNew_Doc.pdf','wb')"
   ]
  },
  {
   "cell_type": "code",
   "execution_count": 26,
   "id": "0360e4cc",
   "metadata": {},
   "outputs": [],
   "source": [
    "pdf_writer.write(pdf_output)"
   ]
  },
  {
   "cell_type": "code",
   "execution_count": 27,
   "id": "1a3cfbd3",
   "metadata": {},
   "outputs": [],
   "source": [
    "f.close()"
   ]
  },
  {
   "cell_type": "code",
   "execution_count": 28,
   "id": "8358e975",
   "metadata": {},
   "outputs": [],
   "source": [
    "pdf_output.close()"
   ]
  },
  {
   "cell_type": "code",
   "execution_count": 30,
   "id": "f718feb0",
   "metadata": {},
   "outputs": [],
   "source": [
    "f = open('Working_Business_Proposal.pdf','rb')\n",
    "\n",
    "pdf_text = []\n",
    "\n",
    "pdf_reader = PyPDF4.PdfFileReader(f)\n",
    "\n",
    "for num in range(pdf_reader.numPages):\n",
    "    \n",
    "    page = pdf_reader.getPage(num)\n",
    "    \n",
    "    pdf_text.append(page.extractText())"
   ]
  },
  {
   "cell_type": "code",
   "execution_count": 38,
   "id": "61754e5e",
   "metadata": {},
   "outputs": [
    {
     "name": "stdout",
     "output_type": "stream",
     "text": [
      "Completely synergize resource taxing relationships via premier niche \n",
      "markets. Professionally cultivate one-to-one customer service with robust \n",
      "ideas. Dynamically innovate resource-leveling customer service for state of \n",
      "the art customer service. \n",
      "Objectively innovate empowered manufactured products whereas parallel \n",
      "platforms. Holisticly predominate extensible testing procedures for reliable \n",
      "supply chains. Dramatically engage top-line web services vis-a-vis \n",
      "cutting-edge deliverables. \n",
      "Proactively envisioned multimedia based expertise and cross-media \n",
      "growth strategies. Seamlessly visualize quality intellectual capital without \n",
      "superior collaboration and idea-sharing. Holistically pontiÞcate installed \n",
      "base portals after maintainable products. \n",
      "Phosßuorescently engage worldwide methodologies with web-enabled \n",
      "technology. Interactively coordinate proactive e-commerce via process-\n",
      "centric \"outside the box\" thinking. Completely pursue scalable customer \n",
      "service through sustainable potentialities. \n",
      "Collaboratively administrate turnkey channels whereas virtual e-tailers. \n",
      "Objectively seize scalable metrics whereas proactive e-services. \n",
      "Seamlessly empower fully researched growth strategies and interoperable \n",
      "internal or \"organic\" sources. \n",
      "Credibly innovate granular internal or \"organic\" sources whereas high \n",
      "standards in web-readiness. Energistically scale future-proof core \n",
      "competencies vis-a-vis impactful experiences. Dramatically synthesize \n",
      "integrated schemas with optimal networks. \n",
      "Interactively procrastinate high-payoff content without backward-\n",
      "compatible data. Quickly cultivate optimal processes and tactical \n",
      "architectures. Completely iterate covalent strategic theme areas via \n",
      "accurate e-markets. \n",
      "Globally incubate standards compliant channels before scalable beneÞts. \n",
      "Quickly disseminate superior deliverables whereas web-enabled \n",
      "BUSINESS PROPOSAL\n",
      "!\n",
      "2\n",
      "\n"
     ]
    }
   ],
   "source": [
    "print(pdf_text[1])"
   ]
  },
  {
   "cell_type": "code",
   "execution_count": null,
   "id": "8b81195c",
   "metadata": {},
   "outputs": [],
   "source": []
  }
 ],
 "metadata": {
  "kernelspec": {
   "display_name": "Python 3 (ipykernel)",
   "language": "python",
   "name": "python3"
  },
  "language_info": {
   "codemirror_mode": {
    "name": "ipython",
    "version": 3
   },
   "file_extension": ".py",
   "mimetype": "text/x-python",
   "name": "python",
   "nbconvert_exporter": "python",
   "pygments_lexer": "ipython3",
   "version": "3.10.9"
  }
 },
 "nbformat": 4,
 "nbformat_minor": 5
}
